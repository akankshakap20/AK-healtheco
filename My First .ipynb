{
    "cells": [
        {
            "metadata": {
                "collapsed": true
            },
            "cell_type": "markdown",
            "source": "# H1 My Jupyter Notebook On IBM Data Science Experience\n## H2 Akanksha Kapoor \nData Scientist\n_I am interested in Data Science because I want to explore the possibility of utilizing analytics tools for clinical trial data_\n### H3 Look my code can do addition "
        },
        {
            "metadata": {},
            "cell_type": "code",
            "source": "import pandas as pd\nimport numpy as np\n",
            "execution_count": 1,
            "outputs": []
        },
        {
            "metadata": {},
            "cell_type": "code",
            "source": "print(\"Hello Capstone Project Course!\")",
            "execution_count": 2,
            "outputs": [
                {
                    "output_type": "stream",
                    "text": "Hello Capstone Project Course!\n",
                    "name": "stdout"
                }
            ]
        },
        {
            "metadata": {},
            "cell_type": "markdown",
            "source": "----\n*x*\n__2__\n~~2~~"
        },
        {
            "metadata": {},
            "cell_type": "code",
            "source": "",
            "execution_count": null,
            "outputs": []
        },
        {
            "metadata": {},
            "cell_type": "markdown",
            "source": "*My First Try*"
        },
        {
            "metadata": {},
            "cell_type": "markdown",
            "source": "1. 1+1\n1. \"My First Try\"\n1. Some Styles"
        },
        {
            "metadata": {},
            "cell_type": "markdown",
            "source": "| Tables| Code | Markdown|\n|-------|:----:|--------:|\n|Add    | 1    | 0       |\n|Strings| 0    | 4       | "
        },
        {
            "metadata": {},
            "cell_type": "code",
            "source": "",
            "execution_count": null,
            "outputs": []
        }
    ],
    "metadata": {
        "kernelspec": {
            "name": "python3",
            "display_name": "Python 3.6",
            "language": "python"
        },
        "language_info": {
            "name": "python",
            "version": "3.6.9",
            "mimetype": "text/x-python",
            "codemirror_mode": {
                "name": "ipython",
                "version": 3
            },
            "pygments_lexer": "ipython3",
            "nbconvert_exporter": "python",
            "file_extension": ".py"
        }
    },
    "nbformat": 4,
    "nbformat_minor": 1
}